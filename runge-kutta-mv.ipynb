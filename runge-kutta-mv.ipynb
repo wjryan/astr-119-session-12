{
 "cells": [
  {
   "cell_type": "markdown",
   "metadata": {},
   "source": [
    "# create ntbk to perform rk integration for multiple variables"
   ]
  },
  {
   "cell_type": "code",
   "execution_count": 2,
   "metadata": {},
   "outputs": [],
   "source": [
    "%matplotlib inline\n",
    "import matplotlib.pyplot as plt\n",
    "import numpy as np"
   ]
  },
  {
   "cell_type": "markdown",
   "metadata": {},
   "source": [
    "# define our coupled derivatives to integrate"
   ]
  },
  {
   "cell_type": "code",
   "execution_count": 3,
   "metadata": {},
   "outputs": [],
   "source": [
    "def dydx(x,y):\n",
    "    #set the derivatives\n",
    "    #our equation is d^2x/dx^2 = -y\n",
    "    #so we can write\n",
    "    #dydx = z\n",
    "    #dzdx = -y\n",
    "    \n",
    "    #we will set y = y[0]\n",
    "    #we will set z = y[1]\n",
    "    \n",
    "    #declare an array\n",
    "    y_derivs = np.zeros(2)\n",
    "    \n",
    "    #set dydx = z\n",
    "    y_derivs[0] = y[1]\n",
    "    #set dzdx = -y\n",
    "    y_derivs[1] = -1*y[0]\n",
    "    \n",
    "    #return arrays of dydx\n",
    "    return y_derivs"
   ]
  },
  {
   "cell_type": "markdown",
   "metadata": {},
   "source": [
    "# Define the 4th order RK method"
   ]
  },
  {
   "cell_type": "code",
   "execution_count": 5,
   "metadata": {},
   "outputs": [],
   "source": [
    "def rk4_mv_core(dydx,xi,yi,nv,h):\n",
    "    \n",
    "    #declare k? arrays (? any digit 0-9)\n",
    "    k1 = np.zeros(nv)\n",
    "    k2 = np.zeros(nv)\n",
    "    k3 = np.zeros(nv)\n",
    "    k4 = np.zeros(nv)\n",
    "    \n",
    "    #define x at 1/2 step\n",
    "    x_ipoh = xi + 0.5*h\n",
    "    \n",
    "    #define x at 1 step\n",
    "    x_ipo = xi + h\n",
    "    \n",
    "    #declare a temp y array\n",
    "    y_temp = np.zeros(nv)\n",
    "    \n",
    "    \n",
    "    #get k1 values\n",
    "    y_derivs = dydx(xi,yi)\n",
    "    k1[:] = h*y_derivs[:]\n",
    "    \n",
    "    #get the k2 values\n",
    "    y_temp[:] = yi[:] + 0.5*k1[:]\n",
    "    y_derivs = dydx(x_ipoh,y_temp)\n",
    "    k2[:] = h*y_derivs[:]\n",
    "    \n",
    "    #get k3 values\n",
    "    y_temp[:] = yi[:] + 0.5*k2[:]\n",
    "    y_derivs = dydx(x_ipoh,y_temp)\n",
    "    k3[:] = h*y_derivs[:]\n",
    "    \n",
    "    #get k4 values\n",
    "    y_temp[:] = yi[:] + 0.5*k3[:]\n",
    "    y_derivs = dydx(x_ipoh,y_temp)\n",
    "    k4[:] = h*y_derivs[:]\n",
    "    \n",
    "    #advance y by a step h\n",
    "    yipo = yi + (k1 + 2*k2 + 2*k3 + k4)/6.\n",
    "    \n",
    "    #this is an array (yipo = y i plus one)\n",
    "    return yipo"
   ]
  },
  {
   "cell_type": "markdown",
   "metadata": {},
   "source": [
    "#  define an adaptive step size friver for rk4"
   ]
  },
  {
   "cell_type": "code",
   "execution_count": 6,
   "metadata": {},
   "outputs": [],
   "source": [
    "def rk4_mv_ad(dydx,x_i,y_i,nv,h,tol):\n",
    "    \n",
    "    #define safety scale\n",
    "    SAFETY = 0.9\n",
    "    H_NEW_FAC = 2.0\n",
    "    \n",
    "    #set a maximum number of iterarions\n",
    "    i = 10000\n",
    "    \n",
    "    #set an iteration variable\n",
    "    i = 0\n",
    "    \n",
    "    #create an error\n",
    "    Delta = np.full(nv,2*tol)\n",
    "    \n",
    "    #remember the step\n",
    "    h_step = h\n",
    "    \n",
    "    #adjust the step\n",
    "    while(Delta.max()/tol>1.0):\n",
    "        \n",
    "        #estimate our error by taking one step of size h vs. 2 steps of size h/2\n",
    "        y_2 = rk4_mv_core(dydx,x_i,y_i,nv,h_step)\n",
    "        y_1 = rk4_mv_core(dydx,x_i,y_i,nv,0.5*h_step)\n",
    "        y_11 = rk4_mv_core(dydx,x_i + 0.5*h_step,y_1,nv,0.5*h_step)\n",
    "        \n",
    "        #compute an error\n",
    "        Delta = np.fabs(y_2 - y_11)\n",
    "        \n",
    "        #if the error is too large, decrease the step\n",
    "        if (Delta.max()/tol>1.0):\n",
    "            h_step *= SAFETY * (delta.max()/tol)**(-0.25)\n",
    "           \n",
    "        #check iterations\n",
    "        if (i>=imax): \n",
    "            print(\"too many iterations in rk4_mv_ad()\")\n",
    "            raise StopIteration(\"ending after i =\",i)\n",
    "            \n",
    "        #iterate\n",
    "        i+= 1\n",
    "        \n",
    "    #next time try to take a bigger step\n",
    "    h_new = np.fmin(h_step* (Delta.max()/tol)**(-0.9), h_step*H_NEW_FAC)\n",
    "    \n",
    "    #return the answer, anew step, and the step we actually took\n",
    "    return y_2, h_new, h_step\n",
    "            "
   ]
  },
  {
   "cell_type": "markdown",
   "metadata": {},
   "source": [
    "# wrapper for RK4"
   ]
  },
  {
   "cell_type": "code",
   "execution_count": 7,
   "metadata": {},
   "outputs": [
    {
     "ename": "SyntaxError",
     "evalue": "unexpected EOF while parsing (<ipython-input-7-73bd4a81aa9c>, line 7)",
     "output_type": "error",
     "traceback": [
      "\u001b[0;36m  File \u001b[0;32m\"<ipython-input-7-73bd4a81aa9c>\"\u001b[0;36m, line \u001b[0;32m7\u001b[0m\n\u001b[0;31m    \u001b[0m\n\u001b[0m    ^\u001b[0m\n\u001b[0;31mSyntaxError\u001b[0m\u001b[0;31m:\u001b[0m unexpected EOF while parsing\n"
     ]
    }
   ],
   "source": [
    "def rk4_mv(dydx,a,b,y_a,tol):\n",
    "    \n",
    "    #dydx is the derivative wrt x\n",
    "    #a is lower bound and b is the upper bound\n",
    "    #y_a are the boundary conditions\n",
    "    #tol is the tolerance for integrating y\n",
    "    \n",
    "    #define our starting step\n",
    "    xi = a\n",
    "    yi = y_a.copy()\n",
    "    \n",
    "    \n",
    "    #an intial step size == very small\n",
    "    h = 1.0e-4 *(b-a)\n",
    "    \n",
    "    #set number 0f iterations\n",
    "    imax -10000\n",
    "   \n",
    "    #set  an iteration variable\n",
    "    i = 0\n",
    "    \n",
    "    #set the number of coupled odes to the size of y_a\n",
    "    nv = len(y_a)\n",
    "    \n",
    "    #set the numper of coupled odes to the size of y_a\n",
    "    x = np.full(1,a)\n",
    "    y = np.full((1,nv),y_a)\n",
    "    \n",
    "    #set initial conditions\n",
    "    flag = 1\n",
    "    \n",
    "    #loop until we reach th right side"
   ]
  },
  {
   "cell_type": "code",
   "execution_count": null,
   "metadata": {},
   "outputs": [],
   "source": []
  },
  {
   "cell_type": "code",
   "execution_count": null,
   "metadata": {},
   "outputs": [],
   "source": []
  }
 ],
 "metadata": {
  "kernelspec": {
   "display_name": "Python 3",
   "language": "python",
   "name": "python3"
  },
  "language_info": {
   "codemirror_mode": {
    "name": "ipython",
    "version": 3
   },
   "file_extension": ".py",
   "mimetype": "text/x-python",
   "name": "python",
   "nbconvert_exporter": "python",
   "pygments_lexer": "ipython3",
   "version": "3.6.5"
  }
 },
 "nbformat": 4,
 "nbformat_minor": 2
}
